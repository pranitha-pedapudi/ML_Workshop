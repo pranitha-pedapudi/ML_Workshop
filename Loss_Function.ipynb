{
  "nbformat": 4,
  "nbformat_minor": 0,
  "metadata": {
    "colab": {
      "provenance": [],
      "authorship_tag": "ABX9TyMZdCVmPCnkSHklMhs2yyOf",
      "include_colab_link": true
    },
    "kernelspec": {
      "name": "python3",
      "display_name": "Python 3"
    },
    "language_info": {
      "name": "python"
    }
  },
  "cells": [
    {
      "cell_type": "markdown",
      "metadata": {
        "id": "view-in-github",
        "colab_type": "text"
      },
      "source": [
        "<a href=\"https://colab.research.google.com/github/pranitha-pedapudi/ML_Workshop/blob/main/Loss_Function.ipynb\" target=\"_parent\"><img src=\"https://colab.research.google.com/assets/colab-badge.svg\" alt=\"Open In Colab\"/></a>"
      ]
    },
    {
      "cell_type": "code",
      "execution_count": null,
      "metadata": {
        "id": "3TvLZolvrJFA"
      },
      "outputs": [],
      "source": [
        "import numpy as np\n",
        "def mean_squared_error(y_true, y_pred):\n",
        "  return np.mean((y_true - y_pred)**2)\n",
        "\n",
        "def root_mean_squared_error(y_true, y_pred):\n",
        "  return np.sqrt(mean_squared_error(y_true, y_pred))\n",
        "\n",
        "def mean_absolute_error(y_true, y_pred):\n",
        "  return np.mean(np.abs(y_true, y_pred))"
      ]
    },
    {
      "cell_type": "code",
      "source": [
        "true_labels=np.array([2,4,5,4,6])\n",
        "predicted_labels=np.array([2.5,3.5,4.5,4,5.5])\n",
        "mse=mean_squared_error(true_labels,predicted_labels)\n",
        "rmse=root_mean_squared_error(true_labels,predicted_labels)\n",
        "mae=mean_absolute_error(true_labels,predicted_labels)\n",
        "print(\"Mean Squared Error :\" ,mse)\n",
        "print(\" Root Mean Squared Error :\", rmse)\n",
        "print(\"Mean Absolute Error :\" ,mae)/\n"
      ],
      "metadata": {
        "colab": {
          "base_uri": "https://localhost:8080/"
        },
        "id": "8qPfEeTtsSyx",
        "outputId": "5670a71c-1184-4868-902c-c0d465668c7e"
      },
      "execution_count": null,
      "outputs": [
        {
          "output_type": "stream",
          "name": "stdout",
          "text": [
            "Mean Squared Error : 0.2\n",
            " Root Mean Squared Error : 0.4472135954999579\n",
            "Mean Absolute Error : 4.2\n"
          ]
        }
      ]
    },
    {
      "cell_type": "code",
      "source": [],
      "metadata": {
        "id": "XEPJhVkYsS0p"
      },
      "execution_count": null,
      "outputs": []
    },
    {
      "cell_type": "code",
      "source": [],
      "metadata": {
        "id": "MsOTclHtsS4K"
      },
      "execution_count": null,
      "outputs": []
    },
    {
      "cell_type": "code",
      "source": [],
      "metadata": {
        "id": "EQUhvj7wsS6W"
      },
      "execution_count": null,
      "outputs": []
    },
    {
      "cell_type": "code",
      "source": [],
      "metadata": {
        "id": "YjhGaBlYsS8g"
      },
      "execution_count": null,
      "outputs": []
    },
    {
      "cell_type": "code",
      "source": [],
      "metadata": {
        "id": "EKXFX_mpsS-O"
      },
      "execution_count": null,
      "outputs": []
    },
    {
      "cell_type": "code",
      "source": [],
      "metadata": {
        "id": "u7MNf7n-sTBx"
      },
      "execution_count": null,
      "outputs": []
    },
    {
      "cell_type": "code",
      "source": [],
      "metadata": {
        "id": "GG1py1iWsTGT"
      },
      "execution_count": null,
      "outputs": []
    }
  ]
}